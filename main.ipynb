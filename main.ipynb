{
 "cells": [
  {
   "cell_type": "markdown",
   "metadata": {},
   "source": [
    "# Prva laboratorijska vježba iz PPKS-a"
   ]
  },
  {
   "cell_type": "markdown",
   "metadata": {},
   "source": [
    "### Testiramo klasu Ucenik"
   ]
  },
  {
   "cell_type": "markdown",
   "metadata": {},
   "source": [
    "- normalno možemo unijeti ocjene za predmete"
   ]
  },
  {
   "cell_type": "code",
   "execution_count": 1,
   "metadata": {},
   "outputs": [
    {
     "name": "stdout",
     "output_type": "stream",
     "text": [
      "Pero Kvrgic, {'fizika': [(5, '25.03.2022'), (1, '26.03.2022'), (2, '27.03.2022')], 'matematika': [(4, '22.03.2022'), (5, '23.03.2022'), (5, '24.03.2022')], 'tjelesni': [(2, '24.03.2022')]}\n"
     ]
    }
   ],
   "source": [
    "from ucenik import Ucenik\n",
    "\n",
    "ucenik_pero = Ucenik(\"Pero Kvrgic\")\n",
    "ucenik_pero.unesi_ocjenu(5, \"fizika\", \"25.03.2022\")\n",
    "ucenik_pero.unesi_ocjenu(1, \"fizika\", \"26.03.2022\")\n",
    "ucenik_pero.unesi_ocjenu(2, \"fizika\", \"27.03.2022\")\n",
    "ucenik_pero.unesi_ocjenu(4, \"matematika\", \"22.03.2022\")\n",
    "ucenik_pero.unesi_ocjenu(5, \"matematika\", \"23.03.2022\")\n",
    "ucenik_pero.unesi_ocjenu(5, \"matematika\", \"24.03.2022\")\n",
    "ucenik_pero.unesi_ocjenu(2, \"tjelesni\", \"24.03.2022\")\n",
    "\n",
    "print(ucenik_pero)"
   ]
  },
  {
   "cell_type": "markdown",
   "metadata": {},
   "source": [
    "- što ako ocjena nije validna?"
   ]
  },
  {
   "cell_type": "code",
   "execution_count": 2,
   "metadata": {},
   "outputs": [
    {
     "name": "stdout",
     "output_type": "stream",
     "text": [
      "Unesena ocjena (8) nije valjana, mora biti u rasponu [1, 5].\n",
      "Unesena ocjena (0) nije valjana, mora biti u rasponu [1, 5].\n"
     ]
    }
   ],
   "source": [
    "ucenik_pero.unesi_ocjenu(8, \"matematika\", \"24.03.2022\")\n",
    "\n",
    "ucenik_pero.unesi_ocjenu(0, \"tjelesni\", \"24.03.2022\")"
   ]
  },
  {
   "cell_type": "markdown",
   "metadata": {},
   "source": [
    "- kako je Peri išlo u školi?"
   ]
  },
  {
   "cell_type": "code",
   "execution_count": 3,
   "metadata": {},
   "outputs": [
    {
     "name": "stdout",
     "output_type": "stream",
     "text": [
      "2.0\n",
      "4.666666666666667\n",
      "2.6666666666666665\n",
      "Učenik još nema unesenu ocjenu za predmet: fiskultura\n",
      "0\n"
     ]
    }
   ],
   "source": [
    "print(ucenik_pero.prosjek_predmet(\"tjelesni\"))\n",
    "print(ucenik_pero.prosjek_predmet(\"matematika\"))\n",
    "print(ucenik_pero.prosjek_predmet(\"fizika\"))\n",
    "print(ucenik_pero.prosjek_predmet(\"fiskultura\"))"
   ]
  },
  {
   "cell_type": "markdown",
   "metadata": {},
   "source": [
    "- hmmm, što to znači, koji mu je predmet najbolje išao?"
   ]
  },
  {
   "cell_type": "code",
   "execution_count": 4,
   "metadata": {},
   "outputs": [
    {
     "name": "stdout",
     "output_type": "stream",
     "text": [
      "['matematika', 'fizika', 'tjelesni']\n"
     ]
    }
   ],
   "source": [
    "print(ucenik_pero.predmeti_rang())"
   ]
  },
  {
   "cell_type": "markdown",
   "metadata": {},
   "source": [
    "- pa kako je moguće da se prosjek prosjeka i prosjek svega razlikuju??"
   ]
  },
  {
   "cell_type": "code",
   "execution_count": 5,
   "metadata": {},
   "outputs": [
    {
     "name": "stdout",
     "output_type": "stream",
     "text": [
      "(3.111111111111111, 3.4285714285714284)\n"
     ]
    }
   ],
   "source": [
    "print(ucenik_pero.globalni_prosjek())"
   ]
  },
  {
   "cell_type": "markdown",
   "metadata": {},
   "source": [
    "### Testiramo klasu UcenikPlus"
   ]
  },
  {
   "cell_type": "markdown",
   "metadata": {},
   "source": [
    "- unijet ćemo ocjene kao i za svakog učenika"
   ]
  },
  {
   "cell_type": "code",
   "execution_count": 6,
   "metadata": {},
   "outputs": [
    {
     "name": "stdout",
     "output_type": "stream",
     "text": [
      "Unesena ocjena (7) nije valjana, mora biti u rasponu [1, 5].\n",
      "Marko Marulic, {'fizika': [(4, '25.03.2022'), (3, '26.03.2022'), (2, '27.03.2022')], 'matematika': [(4, '22.03.2022'), (4, '23.03.2022'), (5, '24.03.2022')], 'tjelesni': [(4, '24.03.2022')]}\n"
     ]
    }
   ],
   "source": [
    "from ucenikplus import UcenikPlus\n",
    "\n",
    "ucenik_marko = UcenikPlus(\"Marko Marulic\")\n",
    "ucenik_marko.unesi_ocjenu(4, \"fizika\", \"25.03.2022\")\n",
    "ucenik_marko.unesi_ocjenu(3, \"fizika\", \"26.03.2022\")\n",
    "ucenik_marko.unesi_ocjenu(2, \"fizika\", \"27.03.2022\")\n",
    "ucenik_marko.unesi_ocjenu(4, \"matematika\", \"22.03.2022\")\n",
    "ucenik_marko.unesi_ocjenu(4, \"matematika\", \"23.03.2022\")\n",
    "ucenik_marko.unesi_ocjenu(5, \"matematika\", \"24.03.2022\")\n",
    "ucenik_marko.unesi_ocjenu(4, \"tjelesni\", \"24.03.2022\")\n",
    "\n",
    "ucenik_marko.unesi_ocjenu(7, \"tjelesni\", \"24.03.2022\")\n",
    "\n",
    "print(ucenik_marko)"
   ]
  },
  {
   "cell_type": "markdown",
   "metadata": {},
   "source": [
    "- a kako ide našem odvjetniku Marku?"
   ]
  },
  {
   "cell_type": "code",
   "execution_count": 7,
   "metadata": {},
   "outputs": [
    {
     "name": "stdout",
     "output_type": "stream",
     "text": [
      "4\n",
      "5\n",
      "3\n",
      "Učenik još nema unesenu ocjenu za predmet: fiskultura\n",
      "0\n"
     ]
    }
   ],
   "source": [
    "print(ucenik_marko.prosjek_predmet(\"tjelesni\"))\n",
    "print(ucenik_marko.prosjek_predmet(\"matematika\"))\n",
    "print(ucenik_marko.prosjek_predmet(\"fizika\"))\n",
    "print(ucenik_marko.prosjek_predmet(\"fiskultura\"))"
   ]
  },
  {
   "cell_type": "markdown",
   "metadata": {},
   "source": [
    "- hmm čini se kao da Marko ima neke posebne povlastice..."
   ]
  },
  {
   "cell_type": "markdown",
   "metadata": {},
   "source": [
    "- no, u ćemu je najbolji?"
   ]
  },
  {
   "cell_type": "code",
   "execution_count": 8,
   "metadata": {},
   "outputs": [
    {
     "name": "stdout",
     "output_type": "stream",
     "text": [
      "['matematika', 'tjelesni', 'fizika']\n"
     ]
    }
   ],
   "source": [
    "print(ucenik_marko.predmeti_rang())"
   ]
  },
  {
   "cell_type": "markdown",
   "metadata": {},
   "source": [
    "- zar će se i njegovi prosjeci razlikovat?"
   ]
  },
  {
   "cell_type": "code",
   "execution_count": 9,
   "metadata": {},
   "outputs": [
    {
     "name": "stdout",
     "output_type": "stream",
     "text": [
      "(4, 4)\n"
     ]
    }
   ],
   "source": [
    "print(ucenik_marko.globalni_prosjek())"
   ]
  },
  {
   "cell_type": "markdown",
   "metadata": {},
   "source": [
    "### Testiramo klasu Razred"
   ]
  },
  {
   "cell_type": "markdown",
   "metadata": {},
   "source": [
    "- da nemamo razred od samo 2 učenika, dodat ćemo još 2"
   ]
  },
  {
   "cell_type": "code",
   "execution_count": 10,
   "metadata": {},
   "outputs": [],
   "source": [
    "ucenik_grga = Ucenik(\"Grga Cvarak\")\n",
    "ucenik_grga.unesi_ocjenu(2, \"matematika\", \"22.03.2022\")\n",
    "ucenik_grga.unesi_ocjenu(3, \"matematika\", \"23.03.2022\")\n",
    "ucenik_grga.unesi_ocjenu(1, \"matematika\", \"24.03.2022\")\n",
    "ucenik_grga.unesi_ocjenu(2, \"fizika\", \"24.03.2022\")\n",
    "ucenik_grga.unesi_ocjenu(5, \"tjelesni\", \"24.03.2022\")\n",
    "\n",
    "ucenik_zdravko = Ucenik(\"Zdravko Čolić\")\n",
    "ucenik_zdravko.unesi_ocjenu(2, \"matematika\", \"22.03.2022\")\n",
    "ucenik_zdravko.unesi_ocjenu(4, \"matematika\", \"23.03.2022\")\n",
    "ucenik_zdravko.unesi_ocjenu(4, \"matematika\", \"24.03.2022\")\n",
    "ucenik_zdravko.unesi_ocjenu(5, \"fizika\", \"24.03.2022\")\n",
    "ucenik_zdravko.unesi_ocjenu(5, \"fizika\", \"24.03.2022\")\n",
    "ucenik_zdravko.unesi_ocjenu(4, \"tjelesni\", \"24.03.2022\")\n",
    "ucenik_zdravko.unesi_ocjenu(3, \"tjelesni\", \"24.03.2022\")"
   ]
  },
  {
   "cell_type": "markdown",
   "metadata": {},
   "source": [
    "- dobrodošli u 1.g razred"
   ]
  },
  {
   "cell_type": "code",
   "execution_count": 11,
   "metadata": {},
   "outputs": [],
   "source": [
    "from razred import Razred\n",
    "\n",
    "razred_1g = Razred(\"1G\", [ucenik_pero, ucenik_marko, ucenik_grga, ucenik_zdravko])"
   ]
  },
  {
   "cell_type": "markdown",
   "metadata": {},
   "source": [
    "- podsjetimo se njihovih prosjeka"
   ]
  },
  {
   "cell_type": "code",
   "execution_count": 12,
   "metadata": {},
   "outputs": [
    {
     "name": "stdout",
     "output_type": "stream",
     "text": [
      "PERO\n",
      "Tjelesni: 2\n",
      "Matematika: 4\n",
      "Fizika: 2\n",
      "\n",
      "MARKO\n",
      "Tjelesni: 4\n",
      "Matematika: 5\n",
      "Fizika: 3\n",
      "\n",
      "GRGA\n",
      "Tjelesni: 5\n",
      "Matematika: 2\n",
      "Fizika: 2\n",
      "\n",
      "ZDRAVKO\n",
      "Tjelesni: 3\n",
      "Matematika: 3\n",
      "Fizika: 5\n"
     ]
    }
   ],
   "source": [
    "print(\"PERO\")\n",
    "print(\"Tjelesni: %d\" % ucenik_pero.prosjek_predmet(\"tjelesni\"))\n",
    "print(\"Matematika: %d\" % ucenik_pero.prosjek_predmet(\"matematika\"))\n",
    "print(\"Fizika: %d\" % ucenik_pero.prosjek_predmet(\"fizika\"))\n",
    "\n",
    "print(\"\\nMARKO\")\n",
    "print(\"Tjelesni: %d\" % ucenik_marko.prosjek_predmet(\"tjelesni\"))\n",
    "print(\"Matematika: %d\" % ucenik_marko.prosjek_predmet(\"matematika\"))\n",
    "print(\"Fizika: %d\" % ucenik_marko.prosjek_predmet(\"fizika\"))\n",
    "\n",
    "print(\"\\nGRGA\")\n",
    "print(\"Tjelesni: %d\" % ucenik_grga.prosjek_predmet(\"tjelesni\"))\n",
    "print(\"Matematika: %d\" % ucenik_grga.prosjek_predmet(\"matematika\"))\n",
    "print(\"Fizika: %d\" % ucenik_grga.prosjek_predmet(\"fizika\"))\n",
    "\n",
    "print(\"\\nZDRAVKO\")\n",
    "print(\"Tjelesni: %d\" % ucenik_zdravko.prosjek_predmet(\"tjelesni\"))\n",
    "print(\"Matematika: %d\" % ucenik_zdravko.prosjek_predmet(\"matematika\"))\n",
    "print(\"Fizika: %d\" % ucenik_zdravko.prosjek_predmet(\"fizika\"))"
   ]
  },
  {
   "cell_type": "markdown",
   "metadata": {},
   "source": [
    "- i tko je najbolji u 1G u kojem predmetu?"
   ]
  },
  {
   "cell_type": "code",
   "execution_count": 13,
   "metadata": {},
   "outputs": [
    {
     "name": "stdout",
     "output_type": "stream",
     "text": [
      "Rang u tjelesnom: \n",
      "['Grga Cvarak', 'Marko Marulic', 'Zdravko Čolić', 'Pero Kvrgic']\n",
      "Rang u matematici: \n",
      "['Marko Marulic', 'Pero Kvrgic', 'Zdravko Čolić', 'Grga Cvarak']\n",
      "Rang u fizici: \n",
      "['Zdravko Čolić', 'Marko Marulic', 'Pero Kvrgic', 'Grga Cvarak']\n"
     ]
    }
   ],
   "source": [
    "print(\"Rang u tjelesnom: \")\n",
    "print(razred_1g.ucenici_rang(\"tjelesni\"))\n",
    "\n",
    "print(\"Rang u matematici: \")\n",
    "print(razred_1g.ucenici_rang(\"matematika\"))\n",
    "\n",
    "print(\"Rang u fizici: \")\n",
    "print(razred_1g.ucenici_rang(\"fizika\"))"
   ]
  },
  {
   "cell_type": "markdown",
   "metadata": {},
   "source": [
    "- dosta za danas, treba spremit razred"
   ]
  },
  {
   "cell_type": "code",
   "execution_count": 14,
   "metadata": {},
   "outputs": [],
   "source": [
    "razred_1g.spremi('1gRazred.dat')"
   ]
  },
  {
   "cell_type": "markdown",
   "metadata": {},
   "source": [
    "- je li spremljen?"
   ]
  },
  {
   "cell_type": "code",
   "execution_count": 15,
   "metadata": {},
   "outputs": [
    {
     "name": "stdout",
     "output_type": "stream",
     "text": [
      "<razred.Razred object at 0x00000186060CCE80>\n"
     ]
    }
   ],
   "source": [
    "import pickle\n",
    "\n",
    "with open('1gRazred.dat', 'rb') as f:\n",
    "    razred_1g = pickle.load(f)\n",
    "    \n",
    "print(razred_1g)"
   ]
  }
 ],
 "metadata": {
  "interpreter": {
   "hash": "2be5faf79681da6f2a61fdfdd5405d65d042280f7fba6178067603e3a2925119"
  },
  "kernelspec": {
   "display_name": "Python 3.10.0 64-bit",
   "language": "python",
   "name": "python3"
  },
  "language_info": {
   "codemirror_mode": {
    "name": "ipython",
    "version": 3
   },
   "file_extension": ".py",
   "mimetype": "text/x-python",
   "name": "python",
   "nbconvert_exporter": "python",
   "pygments_lexer": "ipython3",
   "version": "3.10.0"
  },
  "orig_nbformat": 4
 },
 "nbformat": 4,
 "nbformat_minor": 2
}
